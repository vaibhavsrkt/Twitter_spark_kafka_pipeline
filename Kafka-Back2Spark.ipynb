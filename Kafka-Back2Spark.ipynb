{
 "cells": [
  {
   "cell_type": "code",
   "execution_count": 1,
   "metadata": {},
   "outputs": [],
   "source": [
    "from pyspark.sql import SparkSession\n",
    "from pyspark.sql.types import *\n",
    "from pyspark.sql.functions import *"
   ]
  },
  {
   "cell_type": "code",
   "execution_count": 2,
   "metadata": {},
   "outputs": [],
   "source": [
    "spark = SparkSession.builder\\\n",
    "    .appName('kafka-cleaned-spark')\\\n",
    "    .master('local[2]')\\\n",
    "    .config('spark.sql.shuffle.partitions',2)\\\n",
    "    .getOrCreate()"
   ]
  },
  {
   "cell_type": "code",
   "execution_count": null,
   "metadata": {},
   "outputs": [],
   "source": [
    "df = spark.readStream\\\n",
    "    .format('kafka')\\\n",
    "    .option('kafka.bootstrap.servers', 'localhost:9092')\\\n",
    "    .option('subscribe','seedhe_maut_capturePoint')\\\n",
    "    .load()"
   ]
  },
  {
   "cell_type": "code",
   "execution_count": null,
   "metadata": {},
   "outputs": [],
   "source": [
    "df.printSchema()"
   ]
  },
  {
   "cell_type": "code",
   "execution_count": null,
   "metadata": {},
   "outputs": [],
   "source": [
    "processing = df.selectExpr(\"CAST(value as STRING) AS value\")\\\n",
    "    .select(from_json('value','time TIMESTAMP, hashtag STRING').alias('x'))\\\n",
    "    .selectExpr(\"x.time as time\",\"x.hashtag as hashtag\")\\\n",
    "    .where(\"length(hashtag) > 1\")\\\n",
    "    .where(\"substring(hashtag,1,1) = '#'\")\\\n",
    "    .groupBy(\"hashtag\", window(\"time\", windowDuration='60 minute')).agg(count('hashtag').alias('count'))\\\n",
    "    .selectExpr(\"(hashtag, count, window.start as start, window.end as end) as result\")\\\n",
    "    .select(to_json('result').alias('value'))"
   ]
  },
  {
   "cell_type": "code",
   "execution_count": null,
   "metadata": {},
   "outputs": [],
   "source": [
    "processing.writeStream\\\n",
    "    .outputMode('update')\\\n",
    "    .format('console')\\\n",
    "    .option('truncate','false')\\\n",
    "    .start()"
   ]
  },
  {
   "cell_type": "code",
   "execution_count": null,
   "metadata": {
    "scrolled": false
   },
   "outputs": [],
   "source": [
    "spark.streams.awaitAnyTermination()"
   ]
  },
  {
   "cell_type": "code",
   "execution_count": 17,
   "metadata": {},
   "outputs": [],
   "source": [
    "spark.stop()"
   ]
  }
 ],
 "metadata": {
  "kernelspec": {
   "display_name": "Python 3",
   "language": "python",
   "name": "python3"
  },
  "language_info": {
   "codemirror_mode": {
    "name": "ipython",
    "version": 3
   },
   "file_extension": ".py",
   "mimetype": "text/x-python",
   "name": "python",
   "nbconvert_exporter": "python",
   "pygments_lexer": "ipython3",
   "version": "3.6.12"
  }
 },
 "nbformat": 4,
 "nbformat_minor": 5
}
