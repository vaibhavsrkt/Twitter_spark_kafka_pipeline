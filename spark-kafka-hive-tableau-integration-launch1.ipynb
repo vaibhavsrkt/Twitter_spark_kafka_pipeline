{
 "cells": [
  {
   "cell_type": "markdown",
   "metadata": {},
   "source": [
    "# spark-kafka-tableau integration\n",
    "###### we will be trying to identify the top 20 trending hashtags of twitter by fwtching data from twitter and producing it @kafka and consuming it at spark for cleaning and sending back the cleaned data back to kafka so as to integrate other applications like hive and tableau to it"
   ]
  },
  {
   "cell_type": "code",
   "execution_count": 1,
   "metadata": {},
   "outputs": [],
   "source": [
    "from pyspark.sql import SparkSession\n",
    "from pyspark.sql.types import *\n",
    "from pyspark.sql.functions import *"
   ]
  },
  {
   "cell_type": "markdown",
   "metadata": {},
   "source": [
    "#### step 1\n",
    "* start spark master and slaves\n",
    "* Start zookeeper and kafka server slaves\n",
    "\n",
    "### Connecting to ZooKeeper Using\n",
    "* zookeeper-server-start.sh $KAFKA_HOME/config/zookeeper.properties \n",
    "\n",
    "### Activating the Kafka Server\n",
    "* kafka-server-start.sh $KAFKA_HOME/config/server.properties\n",
    "\n",
    "\n",
    "\n",
    "#### step 2\n",
    "* create a topic in kafka named kafka-hive-spark\n",
    "* kafka-topics.sh --zookeeper localhost 2181 --create --topic kafka-hive-spark --replication-factor 1 -partitions 2\n",
    "* to launch a consumer at that topic \n",
    "* kafka-console-consumer.sh --bootstrap-server localhost:9092 --topic kafka-hive-spark"
   ]
  },
  {
   "cell_type": "code",
   "execution_count": 2,
   "metadata": {},
   "outputs": [],
   "source": [
    "spark = SparkSession.builder\\\n",
    "    .appName('kafka-hive-spark')\\\n",
    "    .master('local[2]')\\\n",
    "    .config('spark.sql.shuffle.partitions', 2)\\\n",
    "    .getOrCreate()"
   ]
  },
  {
   "cell_type": "code",
   "execution_count": 3,
   "metadata": {},
   "outputs": [],
   "source": [
    "df = spark.readStream\\\n",
    "    .format('kafka')\\\n",
    "    .option('kafka.bootstrap.servers', 'localhost:9092')\\\n",
    "    .option('subscribe', 'kafka-hive-spark')\\\n",
    "    .load()"
   ]
  },
  {
   "cell_type": "code",
   "execution_count": 4,
   "metadata": {},
   "outputs": [],
   "source": [
    "processing = df.selectExpr(\"CAST(value as STRING) AS value\")\\\n",
    "    .select(from_json('value','id STRING, time STRING, text STRING').alias('x'))\\\n",
    "    .selectExpr(\"CAST(from_unixtime(x.time,'HH:mm:ss') as TIMESTAMP) as time\",\"explode(split(lower(x.text),' ')) as hashtag\")\\\n",
    "    .where(\"length(hashtag) > 1\")\\\n",
    "    .where(\"substring(hashtag,1,1) = '#'\")\\\n",
    "    .selectExpr(\"(time, hashtag) as result\")\\\n",
    "    .select(to_json('result').alias('value'))"
   ]
  },
  {
   "cell_type": "code",
   "execution_count": 5,
   "metadata": {},
   "outputs": [],
   "source": [
    "# processing.writeStream\\\n",
    "#     .format('console')\\\n",
    "#     .outputMode('append')\\\n",
    "#     .trigger(processingTime = '8 seconds')\\\n",
    "#     .option('truncate', 'false')\\\n",
    "#     .start()"
   ]
  },
  {
   "cell_type": "markdown",
   "metadata": {},
   "source": [
    "#### Step 4:\n",
    "    * Creatin a new topic to produce this cleaned data fo storage\n",
    "        * kafka-topics.sh --zookeeper localhost 2181 --create --topic kafka-hive-spark-intermediate --replication-factor 1 --partitions 2\n",
    "        \n",
    "    \n",
    "#### Step 5: \n",
    "    * Consumer for the new topic created:\n",
    "    * kafka-console-consumer.sh --bootstrap-server localhost:9092 --topic kafka-hive-spark-intermediate"
   ]
  },
  {
   "cell_type": "code",
   "execution_count": 6,
   "metadata": {},
   "outputs": [
    {
     "data": {
      "text/plain": [
       "<pyspark.sql.streaming.StreamingQuery at 0x7ff022be3f60>"
      ]
     },
     "execution_count": 6,
     "metadata": {},
     "output_type": "execute_result"
    }
   ],
   "source": [
    "processing.writeStream\\\n",
    "    .format('kafka')\\\n",
    "    .outputMode('append')\\\n",
    "    .trigger(processingTime = '8 seconds')\\\n",
    "    .option('kafka.bootstrap.servers', 'localhost:9092')\\\n",
    "    .option('topic', 'kafka-hive-spark-intermediate')\\\n",
    "    .option('checkpointLocation', '/home/sunbeam/Documents/tweepy/checkpoint3')\\\n",
    "    .start()"
   ]
  },
  {
   "cell_type": "code",
   "execution_count": 7,
   "metadata": {},
   "outputs": [
    {
     "name": "stderr",
     "output_type": "stream",
     "text": [
      "\n",
      "KeyboardInterrupt\n",
      "\n"
     ]
    }
   ],
   "source": [
    "spark.streams.awaitAnyTermination()"
   ]
  },
  {
   "cell_type": "code",
   "execution_count": null,
   "metadata": {},
   "outputs": [],
   "source": []
  }
 ],
 "metadata": {
  "kernelspec": {
   "display_name": "Python 3",
   "language": "python",
   "name": "python3"
  },
  "language_info": {
   "codemirror_mode": {
    "name": "ipython",
    "version": 3
   },
   "file_extension": ".py",
   "mimetype": "text/x-python",
   "name": "python",
   "nbconvert_exporter": "python",
   "pygments_lexer": "ipython3",
   "version": "3.6.12"
  }
 },
 "nbformat": 4,
 "nbformat_minor": 4
}
