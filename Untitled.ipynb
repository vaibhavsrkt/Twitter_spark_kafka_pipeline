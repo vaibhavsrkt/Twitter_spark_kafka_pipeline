{
 "cells": [
  {
   "cell_type": "code",
   "execution_count": 1,
   "metadata": {},
   "outputs": [],
   "source": [
    "from pyspark.sql import SparkSession"
   ]
  },
  {
   "cell_type": "code",
   "execution_count": 2,
   "metadata": {},
   "outputs": [],
   "source": [
    "spark = SparkSession.builder\\\n",
    "    .config(\"spark.sql.shuffle.partitions\", \"2\")\\\n",
    "    .config(\"javax.jdo.option.ConnectionURL\", \"jdbc:derby:;databaseName=/home/sunbeam/spark-3.0.1-bin-hadoop2.7/metastore_db;create=true\")\\\n",
    "    .config(\"javax.jdo.option.ConnectionDriverName\", \"org.apache.derby.jdbc.EmbeddedDriver\")\\\n",
    "    .config(\"hive.metastore.warehouse.dir\", \"/home/sunbeam/spark-3.0.1-bin-hadoop2.7/spark-warehouse\")\\\n",
    "    .appName(\"demo04\")\\\n",
    "    .master(\"local[2]\")\\\n",
    "    .enableHiveSupport()\\\n",
    "    .getOrCreate()"
   ]
  },
  {
   "cell_type": "code",
   "execution_count": 3,
   "metadata": {},
   "outputs": [
    {
     "name": "stdout",
     "output_type": "stream",
     "text": [
      "[Table(name='covid_statewise', database='feb20', description=None, tableType='MANAGED', isTemporary=False), Table(name='covid_statewise_staging', database='feb20', description=None, tableType='MANAGED', isTemporary=False), Table(name='lbooks', database='feb20', description=None, tableType='MANAGED', isTemporary=False)]\n"
     ]
    }
   ],
   "source": [
    "tables = spark.catalog.listTables(\"feb20\")\n",
    "print(tables)"
   ]
  },
  {
   "cell_type": "code",
   "execution_count": null,
   "metadata": {},
   "outputs": [],
   "source": []
  }
 ],
 "metadata": {
  "kernelspec": {
   "display_name": "Python 3",
   "language": "python",
   "name": "python3"
  },
  "language_info": {
   "codemirror_mode": {
    "name": "ipython",
    "version": 3
   },
   "file_extension": ".py",
   "mimetype": "text/x-python",
   "name": "python",
   "nbconvert_exporter": "python",
   "pygments_lexer": "ipython3",
   "version": "3.6.12"
  }
 },
 "nbformat": 4,
 "nbformat_minor": 4
}
