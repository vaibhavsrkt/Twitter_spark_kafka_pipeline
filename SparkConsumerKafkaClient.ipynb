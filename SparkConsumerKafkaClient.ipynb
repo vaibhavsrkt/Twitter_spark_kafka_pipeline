{
 "cells": [
  {
   "cell_type": "code",
   "execution_count": 1,
   "metadata": {},
   "outputs": [],
   "source": [
    "from pyspark.sql import SparkSession\n",
    "from pyspark.sql.types import *\n",
    "from pyspark.sql.functions import *"
   ]
  },
  {
   "cell_type": "code",
   "execution_count": 2,
   "metadata": {},
   "outputs": [],
   "source": [
    "spark = SparkSession.builder\\\n",
    "    .appName('kafka-spark-kafka')\\\n",
    "    .master('local[2]')\\\n",
    "    .config('spark.sql.shuffle.partitions',2)\\\n",
    "    .getOrCreate()"
   ]
  },
  {
   "cell_type": "markdown",
   "metadata": {},
   "source": [
    "### Connecting to ZooKeeper Using\n",
    "* zookeeper-server-start.sh $KAFKA_HOME/config/zookeeper.properties \n",
    "\n",
    "### Creating A Kafka Topic Named SEEDHE_MAUT On Kafka using\n",
    "* kafka-topics.sh --zookeeper localhost 2181 --create --topic seedhe_maut --replication-factor 1 --partitions 2\n",
    "\n",
    "\n",
    "### Activating the Kafka Server\n",
    "* kafka-server-start.sh $KAFKA_HOME/config/server.properties\n",
    "\n"
   ]
  },
  {
   "cell_type": "markdown",
   "metadata": {},
   "source": [
    "### Continously downloaded unbounded data using tweepy would be streamed to a kafka topic named 'seedhe_maut'\n",
    "\n",
    "### Genrating the tweets using the TWEEPY API for Twitter and Devloper Access and Then sending those tweets to kafka  and can be seen using :\n",
    "* kafka-console-consumer.sh --bootstrap-server localhost:9092 --topic seedhe_maut\n"
   ]
  },
  {
   "cell_type": "code",
   "execution_count": 3,
   "metadata": {},
   "outputs": [],
   "source": [
    "df = spark.readStream\\\n",
    "    .format('kafka')\\\n",
    "    .option('kafka.bootstrap.servers', 'localhost:9092')\\\n",
    "    .option('subscribe','seedhe_maut')\\\n",
    "    .load()"
   ]
  },
  {
   "cell_type": "code",
   "execution_count": 4,
   "metadata": {
    "scrolled": true
   },
   "outputs": [
    {
     "name": "stdout",
     "output_type": "stream",
     "text": [
      "root\n",
      " |-- key: binary (nullable = true)\n",
      " |-- value: binary (nullable = true)\n",
      " |-- topic: string (nullable = true)\n",
      " |-- partition: integer (nullable = true)\n",
      " |-- offset: long (nullable = true)\n",
      " |-- timestamp: timestamp (nullable = true)\n",
      " |-- timestampType: integer (nullable = true)\n",
      "\n"
     ]
    }
   ],
   "source": [
    "df.printSchema()"
   ]
  },
  {
   "cell_type": "code",
   "execution_count": 5,
   "metadata": {},
   "outputs": [],
   "source": [
    "# processing = df.selectExpr(\"CAST(value as STRING) AS value\")\\\n",
    "#     .select(from_json('value','id STRING, time STRING, text STRING').alias('x'))\\\n",
    "#     .selectExpr(\"CAST(from_unixtime(x.time,'HH:mm:ss') as TIMESTAMP) as time\",\"explode(split(lower(x.text),' ')) as hashtag\")\\\n",
    "#     .where(\"length(hashtag) > 1\")\\\n",
    "#     .where(\"substring(hashtag,1,1) = '#'\")\\\n",
    "#     .groupBy(\"hashtag\", window(\"time\", windowDuration='60 minute')).agg(count('hashtag').alias('count'))\\\n",
    "#     .selectExpr(\"(hashtag, count, window.start as start, window.end as end) as result\")\\\n",
    "#     .select(to_json('result').alias('value'))"
   ]
  },
  {
   "cell_type": "code",
   "execution_count": 6,
   "metadata": {},
   "outputs": [],
   "source": [
    "processing = df.selectExpr(\"CAST(value as STRING) AS value\")\\\n",
    "    .select(from_json('value','id STRING, time STRING, text STRING').alias('x'))\\\n",
    "    .selectExpr(\"CAST(from_unixtime(x.time,'HH:mm:ss') as TIMESTAMP) as time\",\"explode(split(lower(x.text),' ')) as hashtag\")\\\n",
    "    .where(\"length(hashtag) > 1\")\\\n",
    "    .where(\"substring(hashtag,1,1) = '#'\")\\\n",
    "    .selectExpr(\"(time, hashtag) as result\")\\\n",
    "    .select(to_json('result').alias('value'))"
   ]
  },
  {
   "cell_type": "code",
   "execution_count": 7,
   "metadata": {},
   "outputs": [
    {
     "data": {
      "text/plain": [
       "<pyspark.sql.streaming.StreamingQuery at 0x7fb64de2a9e8>"
      ]
     },
     "execution_count": 7,
     "metadata": {},
     "output_type": "execute_result"
    }
   ],
   "source": [
    "processing.writeStream\\\n",
    "    .outputMode('append')\\\n",
    "    .format('console')\\\n",
    "    .option('truncate','false')\\\n",
    "    .start()"
   ]
  },
  {
   "cell_type": "code",
   "execution_count": 8,
   "metadata": {
    "scrolled": true
   },
   "outputs": [],
   "source": [
    "# query.awaitTermination()"
   ]
  },
  {
   "cell_type": "markdown",
   "metadata": {},
   "source": [
    "### Creating A Kafka topice to produce this cleaned data of hashtags to\n",
    "* kafka-topics.sh --zookeeper localhost 2181 --create --topic seedhe_maut_capturePoint --replication-factor 1 --partitions 2\n",
    "\n",
    "\n",
    "### Consumer Cross Validate Debugging Command\n",
    "* kafka-console-consumer.sh --bootstrap-server localhost:9092 --topic seedhe_maut_capturePoint"
   ]
  },
  {
   "cell_type": "code",
   "execution_count": 9,
   "metadata": {
    "scrolled": true
   },
   "outputs": [
    {
     "data": {
      "text/plain": [
       "<pyspark.sql.streaming.StreamingQuery at 0x7fb677c8ea20>"
      ]
     },
     "execution_count": 9,
     "metadata": {},
     "output_type": "execute_result"
    }
   ],
   "source": [
    "processing.writeStream\\\n",
    "    .format('kafka')\\\n",
    "    .outputMode('append')\\\n",
    "    .option('kafka.bootstrap.servers','localhost:9092')\\\n",
    "    .option('topic','seedhe_maut_capturePoint')\\\n",
    "    .option('checkpointLocation','/home/sunbeam/Documents/tweepy/checkpoint2/')\\\n",
    "    .start()"
   ]
  },
  {
   "cell_type": "code",
   "execution_count": null,
   "metadata": {
    "scrolled": true
   },
   "outputs": [],
   "source": [
    "spark.streams.awaitAnyTermination()"
   ]
  },
  {
   "cell_type": "code",
   "execution_count": 1,
   "metadata": {},
   "outputs": [
    {
     "ename": "NameError",
     "evalue": "name 'spark' is not defined",
     "output_type": "error",
     "traceback": [
      "\u001b[0;31m---------------------------------------------------------------------------\u001b[0m",
      "\u001b[0;31mNameError\u001b[0m                                 Traceback (most recent call last)",
      "\u001b[0;32m<ipython-input-1-5c6b4d5d9db0>\u001b[0m in \u001b[0;36m<module>\u001b[0;34m\u001b[0m\n\u001b[0;32m----> 1\u001b[0;31m \u001b[0mspark\u001b[0m\u001b[0;34m.\u001b[0m\u001b[0mstop\u001b[0m\u001b[0;34m(\u001b[0m\u001b[0;34m)\u001b[0m\u001b[0;34m\u001b[0m\u001b[0;34m\u001b[0m\u001b[0m\n\u001b[0m",
      "\u001b[0;31mNameError\u001b[0m: name 'spark' is not defined"
     ]
    }
   ],
   "source": [
    "spark.stop()"
   ]
  },
  {
   "cell_type": "code",
   "execution_count": null,
   "metadata": {},
   "outputs": [],
   "source": []
  }
 ],
 "metadata": {
  "kernelspec": {
   "display_name": "Python 3",
   "language": "python",
   "name": "python3"
  },
  "language_info": {
   "codemirror_mode": {
    "name": "ipython",
    "version": 3
   },
   "file_extension": ".py",
   "mimetype": "text/x-python",
   "name": "python",
   "nbconvert_exporter": "python",
   "pygments_lexer": "ipython3",
   "version": "3.6.12"
  }
 },
 "nbformat": 4,
 "nbformat_minor": 5
}
